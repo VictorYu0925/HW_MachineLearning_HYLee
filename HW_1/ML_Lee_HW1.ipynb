{
 "cells": [
  {
   "cell_type": "code",
   "execution_count": 1,
   "metadata": {},
   "outputs": [],
   "source": [
    "import pandas as pd\n",
    "import numpy as np\n",
    "from pandas import DataFrame\n",
    "import math"
   ]
  },
  {
   "cell_type": "code",
   "execution_count": 26,
   "metadata": {
    "scrolled": false
   },
   "outputs": [],
   "source": [
    "\"\"\"Data Preprocess\"\"\"\n",
    "\n",
    "train = pd.read_csv(\"train.csv\", encoding = 'MS950');\n",
    "# 抓取 每日PM2.5\n",
    "pm=train[train[\"測項\"]==\"PM2.5\"].copy()\n",
    "pm.drop(['日期','測站','測項'],axis=1,inplace=True)\n",
    "\n",
    "x=[]# x,y為list\n",
    "y=[]\n",
    "\n",
    "\n",
    "for i in range(15):\n",
    "    temx=pm.iloc[:,i:i+9] #temx: keep i~i+8 o'clock\n",
    "    temx.columns=np.array(range(9))\n",
    "    temy=pm.iloc[:,i+9] #temy: keep i+9 o'clock\n",
    "    temy.columns=np.array(range(1))\n",
    "    x.append(temx) # x = [[eveday 0-8], ..., [eveday 14-22]]\n",
    "    y.append(temy) # y = [[eveday 9], ..., [eveday 23]]\n",
    "\n",
    "x=pd.concat(x) # merge x to a dataframe\n",
    "y=pd.concat(y) # merge y to a series\n",
    "x=np.array(x,float) # convert to a numpy array\n",
    "y=np.array(y,float)\n",
    "np.save(\"x.npy\",x)\n",
    "np.save(\"y.npy\",y)"
   ]
  },
  {
   "cell_type": "code",
   "execution_count": 27,
   "metadata": {},
   "outputs": [
    {
     "name": "stdout",
     "output_type": "stream",
     "text": [
      "[[ 1. 26. 39. ... 25. 20. 19.]\n",
      " [ 1. 21. 23. ... 13. 13. 11.]\n",
      " [ 1. 19. 25. ... 15.  8.  4.]\n",
      " ...\n",
      " [ 1. 31. 31. ... 39. 36. 24.]\n",
      " [ 1. 21. 21. ... 11.  0.  7.]\n",
      " [ 1.  1.  7. ... 28. 17. 24.]]\n"
     ]
    }
   ],
   "source": [
    "x=np.load(\"x.npy\")\n",
    "y=np.load(\"y.npy\")\n",
    "\n",
    "# add a bias series with contents = 1 to x\n",
    "x = np.concatenate((np.ones((x.shape[0],1)),x), axis=1)\n",
    "# initial\n",
    "w = np.zeros(len(x[0]))\n",
    "l_rate = 10\n",
    "repeat = 10000\n",
    "\n",
    "# training\n"
   ]
  },
  {
   "cell_type": "code",
   "execution_count": null,
   "metadata": {},
   "outputs": [],
   "source": []
  }
 ],
 "metadata": {
  "kernelspec": {
   "display_name": "Python 3",
   "language": "python",
   "name": "python3"
  },
  "language_info": {
   "codemirror_mode": {
    "name": "ipython",
    "version": 3
   },
   "file_extension": ".py",
   "mimetype": "text/x-python",
   "name": "python",
   "nbconvert_exporter": "python",
   "pygments_lexer": "ipython3",
   "version": "3.6.5"
  }
 },
 "nbformat": 4,
 "nbformat_minor": 2
}
