{
 "cells": [
  {
   "cell_type": "code",
   "execution_count": 40,
   "metadata": {},
   "outputs": [],
   "source": [
    "import pandas as pd\n",
    "import numpy as np\n",
    "from pandas import DataFrame\n",
    "import math\n",
    "import matplotlib.pyplot as plt"
   ]
  },
  {
   "cell_type": "code",
   "execution_count": 26,
   "metadata": {
    "scrolled": false
   },
   "outputs": [],
   "source": [
    "\"\"\"Data Preprocess\"\"\"\n",
    "\n",
    "train = pd.read_csv(\"train.csv\", encoding = 'MS950');\n",
    "# 抓取 每日PM2.5\n",
    "pm = train[train[\"測項\"]==\"PM2.5\"].copy()\n",
    "pm.drop(['日期','測站','測項'],axis=1,inplace=True)\n",
    "\n",
    "x=[]# x,y為list\n",
    "y=[]\n",
    "\n",
    "\n",
    "for i in range(15):\n",
    "    temx=pm.iloc[:,i:i+9] #temx: keep i~i+8 o'clock\n",
    "    temx.columns=np.array(range(9))\n",
    "    temy=pm.iloc[:,i+9] #temy: keep i+9 o'clock\n",
    "    temy.columns=np.array(range(1))\n",
    "    x.append(temx) # x = [[eveday 0-8], ..., [eveday 14-22]]\n",
    "    y.append(temy) # y = [[eveday 9], ..., [eveday 23]]\n",
    "\n",
    "x=pd.concat(x) # merge x to a dataframe\n",
    "y=pd.concat(y) # merge y to a series\n",
    "x=np.array(x,float) # convert to a numpy array\n",
    "y=np.array(y,float)\n",
    "\n",
    "# save\n",
    "np.save(\"x.npy\",x)\n",
    "np.save(\"y.npy\",y)"
   ]
  },
  {
   "cell_type": "code",
   "execution_count": 38,
   "metadata": {},
   "outputs": [
    {
     "data": {
      "image/png": "[encoded data removed]",
      "text/plain": [
       "<Figure size 432x288 with 1 Axes>"
      ]
     },
     "metadata": {},
     "output_type": "display_data"
    }
   ],
   "source": [
    "x = np.load(\"x.npy\")\n",
    "y = np.load(\"y.npy\")\n",
    "\n",
    "# add a bias series all valued 1 to x\n",
    "x = np.concatenate((np.ones((x.shape[0],1)),x), axis=1)\n",
    "# initial\n",
    "w = np.zeros(len(x[0]))\n",
    "l_rate = 10\n",
    "repeat = 10000\n",
    "s_grad = np.zeros(len(x[0]))\n",
    "x_t = x.transpose()\n",
    "# To show Loss\n",
    "lossrec=[]\n",
    "\n",
    "\n",
    "# training\n",
    "for i in range(repeat):\n",
    "    tem = np.dot(x,w)\n",
    "    loss = y - tem\n",
    "    lossrec.append(np.sum(loss, axis = 0))\n",
    "    # adagrad\n",
    "    grad = np.dot(x_t,loss) * (-2)\n",
    "    s_grad += grad**2\n",
    "    ada = np.sqrt(s_grad)\n",
    "    w = w - l_rate * grad / ada\n",
    "    \n",
    "# loss\n",
    "plt.plot(lossrec)\n",
    "plt.ylim(-3,1000)\n",
    "plt.show()\n",
    "\n",
    "# save\n",
    "np.save(\"model.npy\",w)"
   ]
  },
  {
   "cell_type": "code",
   "execution_count": 46,
   "metadata": {},
   "outputs": [
    {
     "data": {
      "text/plain": [
       "array([ 27.41442114,  61.55576434,  20.49803196,  29.53443361,\n",
       "        10.79767011,  36.20720196,  39.7163839 ,  16.57175712,\n",
       "        48.23627374,  33.98378897,  39.25396544,  58.48319052,\n",
       "        37.23356467,  41.66913212,  27.55246309,  13.1889624 ,\n",
       "        52.30029122,  23.63327639,  19.7662073 ,  20.51352232,\n",
       "        15.66268864,  28.49276165,  38.03477309,  11.08073866,\n",
       "        58.24257196,  44.53164349,  28.87672212,   9.80659247,\n",
       "        29.69971845,  36.35090639,  19.43428788,  12.71486259,\n",
       "        17.0117771 ,   8.62668932,  18.82222166,  38.66455325,\n",
       "        20.08402335,  28.39280922,   6.94419602,  59.68906378,\n",
       "        46.63323825,  17.28591502,  49.70855984,  18.98558771,\n",
       "        44.15939046,  51.19898476,  61.64642457,  40.29588702,\n",
       "        51.04026409,  42.08154294,  30.7565433 ,  25.43723702,\n",
       "        41.07801634,  26.36300435,  38.24278214,  39.90044155,\n",
       "        25.70020226,  22.49555053,  37.45505336,  31.50166898,\n",
       "        15.99339805,  23.13494156,  31.72293469,  55.05229489,\n",
       "        49.79831949,  27.16916009,  41.80385311,  53.97695624,\n",
       "        28.60287696,  39.58705763,  64.410041  ,  53.21381239,\n",
       "        44.59853488,  11.81688569,  13.28959218,  37.13641118,\n",
       "        60.84702575,   3.76704803,  45.37957996,  41.11122296,\n",
       "         8.83597339,  22.68054832,   8.15940385,  34.0300953 ,\n",
       "        11.67537801,   5.75954725,  16.8761486 ,  12.03440572,\n",
       "        13.36107281,  28.14531138,  30.62711955,  11.83505299,\n",
       "        14.13208074,   8.39468792,  36.41781289,  16.17882253,\n",
       "        16.28585585,   9.21372999,  11.67137569,   4.63455356,\n",
       "        13.60866586,  18.48000726,  11.82113586,   6.07742152,\n",
       "        14.77175592,  37.09934473,  27.42006071,   8.53079998,\n",
       "        16.83561712,  17.00987369,  14.68741043,  18.12587716,\n",
       "        13.88208668,  28.5842116 ,  23.14268583,  15.52079573,\n",
       "        10.08348822,  44.56446055,  30.35991232,   2.10279139,\n",
       "         2.92783351,  11.87232339,  16.3928963 ,  15.97087877,\n",
       "         7.16370992,  27.29382236,  22.34019771,  13.7325026 ,\n",
       "        20.50838242,  18.09568821,   4.66561404,  36.41189059,\n",
       "        14.86607699,  27.46575584,  24.3002474 ,  21.97534739,\n",
       "        10.8245801 ,  20.33385563,  77.233224  ,  63.5937612 ,\n",
       "        28.09051025,  18.15201681,  25.71719083,   8.85804148,\n",
       "        12.31178245,  10.74983877,  22.28827797,   8.21718773,\n",
       "        14.13619945,  17.60372596,  51.43025621,  21.67736701,\n",
       "        24.63501219,  16.2807963 ,  14.92005554,  27.58824328,\n",
       "        21.89754177,  34.45580368,   3.85929354,  20.42882498,\n",
       "        44.05801077,  19.49913085,  55.62940604,  20.12447359,\n",
       "        37.64354457,  25.48671691,  21.80494487,   2.10677156,\n",
       "        66.67231076,  18.20522974,  18.40137634,  68.63543082,\n",
       "        21.52886408,   3.35410809,  23.91711267,   3.19328693,\n",
       "         7.3362368 ,  19.80233022,  21.02805103,  21.30169596,\n",
       "        43.10038167,  27.72679804,  29.34505935,  12.92685946,\n",
       "         9.49478032,  41.79174848,  37.56672488,  33.46514056,\n",
       "        16.61188699,  22.27478439,  15.64608849,  15.43459805,\n",
       "        33.50957888,  78.29417533,  29.69724604,  12.38993653,\n",
       "        61.02892701,  16.30394837,  19.90087672,  24.05393277,\n",
       "       124.91446176,  27.26686899,  58.66423859,   5.93113827,\n",
       "        62.32539441,  36.08410647,  18.2073084 ,  15.24126715,\n",
       "        63.81253281,  14.77440766,  30.38320459,  71.91053839,\n",
       "        20.90171357, 117.49492404,  40.12748092,  82.3046879 ,\n",
       "        92.80183378,  70.52031074,  29.61420686,  20.09476495,\n",
       "        31.50259853,  54.62264495,  29.1627498 ,  40.04271227,\n",
       "        44.66444437,   9.00641026,   4.90637256,  69.56826401,\n",
       "        28.62109068,   2.39879172,  39.50871175,  15.63863278,\n",
       "        22.31072029,   9.31796978,  12.25547045,  22.44363337,\n",
       "        13.28597289,   0.70001606,  22.20098335,   1.88902699])"
      ]
     },
     "execution_count": 46,
     "metadata": {},
     "output_type": "execute_result"
    }
   ],
   "source": [
    "model = np.load(\"model.npy\")\n",
    "test = pd.read_csv(\"test.csv\")\n",
    "t = test[test[\"AMB_TEMP\"]==\"PM2.5\"].copy()\n",
    "t.drop([\"id_0\",\"AMB_TEMP\"],axis=1,inplace=True)\n",
    "t = np.array(t,float)\n",
    "t = np.concatenate((np.ones((t.shape[0],1)),t), axis=1)\n",
    "res = []\n",
    "res = np.dot(t,w)\n",
    "res"
   ]
  },
  {
   "cell_type": "code",
   "execution_count": null,
   "metadata": {},
   "outputs": [],
   "source": []
  }
 ],
 "metadata": {
  "kernelspec": {
   "display_name": "Python 3",
   "language": "python",
   "name": "python3"
  },
  "language_info": {
   "codemirror_mode": {
    "name": "ipython",
    "version": 3
   },
   "file_extension": ".py",
   "mimetype": "text/x-python",
   "name": "python",
   "nbconvert_exporter": "python",
   "pygments_lexer": "ipython3",
   "version": "3.6.5"
  }
 },
 "nbformat": 4,
 "nbformat_minor": 2
}
